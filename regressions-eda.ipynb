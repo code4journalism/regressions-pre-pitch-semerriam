{
 "cells": [
  {
   "cell_type": "code",
   "execution_count": 1,
   "id": "cf7b443f",
   "metadata": {},
   "outputs": [
    {
     "name": "stderr",
     "output_type": "stream",
     "text": [
      "/Users/sm/.pyenv/versions/3.10.0/lib/python3.10/site-packages/pandas/compat/__init__.py:124: UserWarning: Could not import the lzma module. Your installed Python is incomplete. Attempting to use lzma compression will result in a RuntimeError.\n",
      "  warnings.warn(msg)\n"
     ]
    }
   ],
   "source": [
    "import pandas as pd\n",
    "from plotnine import *\n",
    "\n",
    "# importing statsmodels (for linear regression in python)\n",
    "import statsmodels.formula.api as smf"
   ]
  },
  {
   "cell_type": "markdown",
   "id": "be3f94ec",
   "metadata": {},
   "source": [
    "# Exploratory data analysis\n",
    "\n",
    "This is your \"clean notebook\" for exploratory data viz. If you're just getting started, go to the `regressions-eda-scratchpad.ipynb` notebook and come back here once you've done some exploration and are getting ready to submit. \n",
    "\n",
    "This notebook doesn't have to tell a story from top-to-bottom, but the teaching team should be able to follow your logic as you explore. If you've come to a conclusion about something, put it in the title of the chart. If you have a takewaway or question, or are looking for feedback, put that in a markdown cell in text. This is your way to show the teaching team your exploratory data viz, and for us to give you feedback on it. \n",
    "\n",
    "\n",
    "## Load Data"
   ]
  },
  {
   "cell_type": "markdown",
   "id": "0f878406",
   "metadata": {},
   "source": [
    "Code for loading raw data like `pd.read_csv()` etc. -- will go into this section. "
   ]
  },
  {
   "cell_type": "code",
   "execution_count": null,
   "id": "11ca2569",
   "metadata": {},
   "outputs": [],
   "source": []
  },
  {
   "cell_type": "code",
   "execution_count": null,
   "id": "18417a5f",
   "metadata": {},
   "outputs": [],
   "source": []
  },
  {
   "cell_type": "markdown",
   "id": "4d4ff1eb",
   "metadata": {},
   "source": [
    "### Clean data\n",
    "\n",
    "As you do your exploration, you may find that you need to transform the data (for example you want to extract the brand of a car from the name column, or rename 0 and 1 in the `am` column to \"automatic\" and \"manual\". I'd reccomend putting any of that code here and re-running the notebook. That way, when you come back to the notebook later, the data processing code is all at the top and you can chart or analyze whatever you want after it. \n",
    "\n",
    "Feel free to add as many cells as you need in this section."
   ]
  },
  {
   "cell_type": "code",
   "execution_count": null,
   "id": "2f0cff4a",
   "metadata": {},
   "outputs": [],
   "source": []
  },
  {
   "cell_type": "code",
   "execution_count": null,
   "id": "a7f794f1",
   "metadata": {},
   "outputs": [],
   "source": []
  },
  {
   "cell_type": "code",
   "execution_count": null,
   "id": "754fb65b",
   "metadata": {},
   "outputs": [],
   "source": []
  },
  {
   "cell_type": "code",
   "execution_count": null,
   "id": "daa8486c",
   "metadata": {},
   "outputs": [],
   "source": []
  },
  {
   "cell_type": "code",
   "execution_count": null,
   "id": "ec211828",
   "metadata": {},
   "outputs": [],
   "source": []
  },
  {
   "cell_type": "markdown",
   "id": "2fc06aeb",
   "metadata": {},
   "source": [
    "## Explore the data"
   ]
  },
  {
   "cell_type": "markdown",
   "id": "81472f6f",
   "metadata": {},
   "source": [
    "### Summary Stats\n",
    "\n",
    "This is the part of the data exploration where you get to understand what the columns are. You're welcome to pop open the data in excel as well to get a sense of it. At the very least, you'll want to run `.describe()` on your dataframe or dataframes. If you want to do a correlation matrix, you can use `.corr()` (sometimes I like to add `.round(2)` to the end of that so it doesn't report it out to too many decimal places)"
   ]
  },
  {
   "cell_type": "code",
   "execution_count": null,
   "id": "81ed83da",
   "metadata": {},
   "outputs": [],
   "source": []
  },
  {
   "cell_type": "code",
   "execution_count": null,
   "id": "1d35dfd7",
   "metadata": {},
   "outputs": [],
   "source": []
  },
  {
   "cell_type": "code",
   "execution_count": null,
   "id": "6c9cdf98",
   "metadata": {},
   "outputs": [],
   "source": []
  },
  {
   "cell_type": "markdown",
   "id": "41abf615",
   "metadata": {},
   "source": [
    "### Plots (exploratory)\n",
    "\n",
    "Remember, always plot your distributions. You may want to try some histograms on particular columns. \n",
    "\n",
    "Scatter plots could also help with understanding how variables relate to one another. \n",
    "\n",
    "Feel free to use any plot type you think will help you better understand the data. If you think you've got a takeaway or a question, you can put that takeaway or question in a markdown cell above or below the chart. Just to remind yourself and anyone you're asking for help from, the purpose of that plot. I also like to get into the habit of titling plots [DRAFT]-NOT FOR PUBLICATION since exploratory data viz can be misleading but you might pass them around to editors or colleagues as you try to understand the data."
   ]
  },
  {
   "cell_type": "code",
   "execution_count": 2,
   "id": "da9600eb",
   "metadata": {},
   "outputs": [
    {
     "data": {
      "image/png": "[encoded data removed]",
      "text/plain": [
       "<Figure size 640x480 with 1 Axes>"
      ]
     },
     "metadata": {},
     "output_type": "display_data"
    },
    {
     "data": {
      "text/plain": [
       "<ggplot: (697928242)>"
      ]
     },
     "execution_count": 2,
     "metadata": {},
     "output_type": "execute_result"
    }
   ],
   "source": [
    "(\n",
    "    ggplot()\n",
    ")"
   ]
  },
  {
   "cell_type": "code",
   "execution_count": null,
   "id": "baa9bb7c",
   "metadata": {},
   "outputs": [],
   "source": []
  },
  {
   "cell_type": "code",
   "execution_count": null,
   "id": "6539becc",
   "metadata": {},
   "outputs": [],
   "source": []
  },
  {
   "cell_type": "code",
   "execution_count": null,
   "id": "f73b4e9d",
   "metadata": {},
   "outputs": [],
   "source": []
  },
  {
   "cell_type": "code",
   "execution_count": null,
   "id": "e85af2c7",
   "metadata": {},
   "outputs": [],
   "source": []
  },
  {
   "cell_type": "code",
   "execution_count": null,
   "id": "9d40064d",
   "metadata": {},
   "outputs": [],
   "source": []
  },
  {
   "cell_type": "markdown",
   "id": "48a9729f",
   "metadata": {},
   "source": [
    "### Regressions and Models (exploratory)\n",
    "\n",
    "This is where you start using some of the more advanced statsitical techniques you've learned so far to understand the data better. Wondering if the differences between two means is significant? You want to try a t-test. Alternatively, this is a good place to play around with regressions to better understand how variables in your dataset relate to one another. You might want to put the takeaway from the regression model in the cell below, just so you don't forget what exploration you did and what it means."
   ]
  },
  {
   "cell_type": "code",
   "execution_count": 3,
   "id": "ca57d41d",
   "metadata": {},
   "outputs": [],
   "source": [
    "# import statsmodels.formula.api as smf\n",
    "# model = smf.ols(\"Y ~ X1 + X2 + X3\", data=df)\n",
    "# results = model.fit()\n",
    "# results.summary()\n"
   ]
  },
  {
   "cell_type": "code",
   "execution_count": null,
   "id": "1272a5a6",
   "metadata": {},
   "outputs": [],
   "source": []
  },
  {
   "cell_type": "code",
   "execution_count": null,
   "id": "eb7610a2",
   "metadata": {},
   "outputs": [],
   "source": []
  },
  {
   "cell_type": "code",
   "execution_count": null,
   "id": "e7875414",
   "metadata": {},
   "outputs": [],
   "source": []
  },
  {
   "cell_type": "code",
   "execution_count": null,
   "id": "50023b56",
   "metadata": {},
   "outputs": [],
   "source": []
  },
  {
   "cell_type": "code",
   "execution_count": null,
   "id": "f61a0151",
   "metadata": {},
   "outputs": [],
   "source": []
  },
  {
   "cell_type": "markdown",
   "id": "3e83df2b",
   "metadata": {},
   "source": [
    "# Thoughts 👉 \n",
    "\n",
    "In the cells below, freewrite your thoughts, takeaways, burning questions, etc...\n",
    "\n",
    "I reccomend bullet point format...but some people think in paragraphs and that's fine too! This is to help you synthesize the exporation you've just done and think through where you might go next.\n",
    "\n",
    "Are there questions you have that will require reporting to answer? Questions that will require expert statistical help? Are there variables your data doesn't consider or additional data that you need to join to this data? Is there a budding seed of a pitch somewhere?\n",
    "\n",
    "Also think about the **limitations of the data** and the **implications of your methodological choices** so far."
   ]
  },
  {
   "cell_type": "markdown",
   "id": "1860e7d7",
   "metadata": {},
   "source": [
    "* \n",
    "*\n",
    "*\n",
    "*\n",
    "*\n",
    "*"
   ]
  },
  {
   "cell_type": "markdown",
   "id": "ed5ef8ea",
   "metadata": {},
   "source": [
    "# Next Steps 👉 \n",
    "\n",
    "What do you think the next steps are to get this from exploratory data analysis to pitch? Be honest. If you think there's nothing here, just say that and try to figure out what a more meaningful approach or journalistic question would be. If you do think this could lead to your pitch, think through where you might go next with it:\n",
    "\n",
    "- Do you need more data? If so, where might you get it?\n",
    "- Do you need to do reporting? If so, who do you need to talk to?\n",
    "- Do you, at this point, need the help of someone with more stats knowledge? If so, what questions would you ask them?\n",
    "\n"
   ]
  },
  {
   "cell_type": "code",
   "execution_count": null,
   "id": "343bd691",
   "metadata": {},
   "outputs": [],
   "source": []
  },
  {
   "cell_type": "code",
   "execution_count": null,
   "id": "2e9efa4c",
   "metadata": {},
   "outputs": [],
   "source": []
  }
 ],
 "metadata": {
  "kernelspec": {
   "display_name": "Python 3 (ipykernel)",
   "language": "python",
   "name": "python3"
  },
  "language_info": {
   "codemirror_mode": {
    "name": "ipython",
    "version": 3
   },
   "file_extension": ".py",
   "mimetype": "text/x-python",
   "name": "python",
   "nbconvert_exporter": "python",
   "pygments_lexer": "ipython3",
   "version": "3.10.0"
  }
 },
 "nbformat": 4,
 "nbformat_minor": 5
}
